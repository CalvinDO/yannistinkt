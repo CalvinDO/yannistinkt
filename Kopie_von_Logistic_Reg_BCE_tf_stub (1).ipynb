{
  "nbformat": 4,
  "nbformat_minor": 0,
  "metadata": {
    "colab": {
      "name": "Kopie von Logistic_Reg_BCE_tf_stub.ipynb",
      "provenance": [],
      "collapsed_sections": []
    },
    "kernelspec": {
      "name": "python3",
      "display_name": "Python 3"
    }
  },
  "cells": [
    {
      "cell_type": "markdown",
      "metadata": {
        "id": "WILyzi-mQGLO"
      },
      "source": [
        "# Logistic Regression with BinaryCrossEntropy Loss.\n",
        "In this notebook you will implement the logistic regression by using tensorflow's BinaryCrossEntropy loss."
      ]
    },
    {
      "cell_type": "code",
      "metadata": {
        "id": "xI0dT0-WEYuh"
      },
      "source": [
        "import tensorflow as tf\n",
        "import tensorflow_datasets as tfds"
      ],
      "execution_count": null,
      "outputs": []
    },
    {
      "cell_type": "code",
      "metadata": {
        "id": "Tqiqzu3dFXKj",
        "colab": {
          "base_uri": "https://localhost:8080/"
        },
        "outputId": "58643f60-55cc-4284-e675-ad3ff60ba2d8"
      },
      "source": [
        "print(tf.__version__)\n"
      ],
      "execution_count": null,
      "outputs": [
        {
          "output_type": "stream",
          "name": "stdout",
          "text": [
            "2.7.0\n"
          ]
        }
      ]
    },
    {
      "cell_type": "code",
      "metadata": {
        "id": "ZSjE8NINEvVO"
      },
      "source": [
        "import numpy as np "
      ],
      "execution_count": null,
      "outputs": []
    },
    {
      "cell_type": "code",
      "metadata": {
        "id": "UrkpG7BYI8MT",
        "colab": {
          "base_uri": "https://localhost:8080/"
        },
        "outputId": "ddcb9805-3755-4253-f3d5-7e9c845e5975"
      },
      "source": [
        "mnist = tf.keras.datasets.mnist\n",
        "\n",
        "(x_train, y_train), (x_test, y_test) = mnist.load_data()\n",
        "\n",
        "x_train, x_test = x_train / 255.0, x_test / 255.0\n"
      ],
      "execution_count": null,
      "outputs": [
        {
          "output_type": "stream",
          "name": "stdout",
          "text": [
            "Downloading data from https://storage.googleapis.com/tensorflow/tf-keras-datasets/mnist.npz\n",
            "11493376/11490434 [==============================] - 0s 0us/step\n",
            "11501568/11490434 [==============================] - 0s 0us/step\n"
          ]
        }
      ]
    },
    {
      "cell_type": "code",
      "metadata": {
        "id": "CHEiLlEnNhIm",
        "colab": {
          "base_uri": "https://localhost:8080/"
        },
        "outputId": "c54b0006-7395-43d4-8800-fd6fe4b1ab3f"
      },
      "source": [
        "print (x_train.shape)"
      ],
      "execution_count": null,
      "outputs": [
        {
          "output_type": "stream",
          "name": "stdout",
          "text": [
            "(60000, 28, 28)\n"
          ]
        }
      ]
    },
    {
      "cell_type": "code",
      "metadata": {
        "id": "Cb5Hr9aENMTy",
        "colab": {
          "base_uri": "https://localhost:8080/"
        },
        "outputId": "c25dd6b4-fc21-4192-8328-16f2c57ffff1"
      },
      "source": [
        "x_train = x_train.reshape([60000,784])\n",
        "x_test = x_test.reshape([10000,784])\n",
        "print(x_train.shape)\n"
      ],
      "execution_count": null,
      "outputs": [
        {
          "output_type": "stream",
          "name": "stdout",
          "text": [
            "(60000, 784)\n"
          ]
        }
      ]
    },
    {
      "cell_type": "code",
      "metadata": {
        "id": "VchHR4WRwYLT"
      },
      "source": [
        "logical_mask_0 = y_train == 0\n",
        "logical_mask_1 = y_train == 1"
      ],
      "execution_count": null,
      "outputs": []
    },
    {
      "cell_type": "code",
      "metadata": {
        "id": "9fcSdmzcxUKv"
      },
      "source": [
        "zeros = tf.boolean_mask(x_train, logical_mask_0)\n",
        "labels_0 = tf.boolean_mask(y_train, logical_mask_0)\n",
        "ones = tf.boolean_mask(x_train, logical_mask_1)\n",
        "labels_1 = tf.boolean_mask(y_train, logical_mask_1)\n",
        "all0_1 = tf.cast(tf.concat([zeros, ones], 0), tf.float32)\n",
        "all0_1_labels = tf.cast(tf.concat([labels_0, labels_1], 0), tf.int32)"
      ],
      "execution_count": null,
      "outputs": []
    },
    {
      "cell_type": "code",
      "metadata": {
        "id": "gzz7vocjXDRW"
      },
      "source": [
        "dataset = tf.data.Dataset.from_tensor_slices((all0_1,all0_1_labels))\n",
        "# Shuffle, repeat, and batch the examples.\n",
        "dataset = dataset.shuffle(12000).repeat(10).batch(10)\n"
      ],
      "execution_count": null,
      "outputs": []
    },
    {
      "cell_type": "markdown",
      "metadata": {
        "id": "pd6gwY7xydcm"
      },
      "source": [
        "Define the network model using tf.keras.models.Sequential\n",
        "\n",
        "Think how many output neurons you need (see also lecture slides)"
      ]
    },
    {
      "cell_type": "code",
      "metadata": {
        "id": "2FxhTxo3yhEH"
      },
      "source": [
        "model = tf.keras.Sequential()\n",
        "model.add(tf.keras.layers.Dense(1))\n"
      ],
      "execution_count": null,
      "outputs": []
    },
    {
      "cell_type": "markdown",
      "metadata": {
        "id": "cpr8yZVO6xsB"
      },
      "source": [
        "Define your optimizer, loss, metrics \n",
        "\n",
        "See model.compile"
      ]
    },
    {
      "cell_type": "code",
      "metadata": {
        "id": "CVJHVDzc62BE"
      },
      "source": [
        "model.compile(optimizer=tf.keras.optimizers.SGD(learning_rate= 0.00005), \n",
        "              loss=tf.keras.losses.BinaryCrossentropy(from_logits=True), \n",
        "              metrics=tf.keras.metrics.BinaryAccuracy())"
      ],
      "execution_count": null,
      "outputs": []
    },
    {
      "cell_type": "markdown",
      "metadata": {
        "id": "W--SO4QKzpxJ"
      },
      "source": [
        "Fit your model"
      ]
    },
    {
      "cell_type": "code",
      "metadata": {
        "id": "1EM8qCqizwEe",
        "colab": {
          "base_uri": "https://localhost:8080/"
        },
        "outputId": "c00918bc-718e-40fc-c4d2-31a95a1e2b1b"
      },
      "source": [
        "model.fit(dataset, epochs=10)"
      ],
      "execution_count": null,
      "outputs": [
        {
          "output_type": "stream",
          "name": "stdout",
          "text": [
            "Epoch 1/10\n",
            "12665/12665 [==============================] - 16s 1ms/step - loss: 0.0050 - binary_accuracy: 0.9987\n",
            "Epoch 2/10\n",
            "12665/12665 [==============================] - 17s 1ms/step - loss: 0.0049 - binary_accuracy: 0.9987\n",
            "Epoch 3/10\n",
            "12665/12665 [==============================] - 16s 1ms/step - loss: 0.0048 - binary_accuracy: 0.9988\n",
            "Epoch 4/10\n",
            "12665/12665 [==============================] - 16s 1ms/step - loss: 0.0047 - binary_accuracy: 0.9988\n",
            "Epoch 5/10\n",
            "12665/12665 [==============================] - 17s 1ms/step - loss: 0.0046 - binary_accuracy: 0.9988\n",
            "Epoch 6/10\n",
            "12665/12665 [==============================] - 17s 1ms/step - loss: 0.0045 - binary_accuracy: 0.9988\n",
            "Epoch 7/10\n",
            "12665/12665 [==============================] - 17s 1ms/step - loss: 0.0044 - binary_accuracy: 0.9988\n",
            "Epoch 8/10\n",
            "12665/12665 [==============================] - 17s 1ms/step - loss: 0.0043 - binary_accuracy: 0.9988\n",
            "Epoch 9/10\n",
            "12665/12665 [==============================] - 17s 1ms/step - loss: 0.0043 - binary_accuracy: 0.9988\n",
            "Epoch 10/10\n",
            "12665/12665 [==============================] - 17s 1ms/step - loss: 0.0042 - binary_accuracy: 0.9988\n"
          ]
        },
        {
          "output_type": "execute_result",
          "data": {
            "text/plain": [
              "<keras.callbacks.History at 0x7fe7dca80610>"
            ]
          },
          "metadata": {},
          "execution_count": 49
        }
      ]
    },
    {
      "cell_type": "markdown",
      "metadata": {
        "id": "Lwy44sErwQPl"
      },
      "source": [
        "Apply your model to the test data.\n",
        "\n",
        "First extract the zeros and ones out of the whole test dataset"
      ]
    },
    {
      "cell_type": "code",
      "metadata": {
        "id": "-prp7AicwTWK",
        "colab": {
          "base_uri": "https://localhost:8080/"
        },
        "outputId": "4eeb5cfb-3d86-4374-e185-e9eee3fb42a3"
      },
      "source": [
        "logical_mask_0 = y_test == 0\n",
        "logical_mask_1 = y_test == 1\n",
        "zeros = tf.boolean_mask(x_test, logical_mask_0)\n",
        "labels_0 = tf.boolean_mask(y_test, logical_mask_0)\n",
        "ones = tf.boolean_mask(x_test, logical_mask_1)\n",
        "labels_1 = tf.boolean_mask(y_test, logical_mask_1)\n",
        "all0_1 = tf.cast(tf.concat([zeros, ones], 0), tf.float32)\n",
        "all0_1_labels = tf.cast(tf.concat([labels_0, labels_1], 0), tf.int32)\n",
        "\n",
        "dataset_test = tf.data.Dataset.from_tensor_slices((all0_1,all0_1_labels))\n",
        "# Shuffle, repeat, and batch the examples.\n",
        "dataset_test = dataset_test.batch(1)\n",
        "print(dataset_test)\n",
        "\n",
        "loss, acc = model.evaluate(dataset_test)\n",
        "print(loss, acc)"
      ],
      "execution_count": null,
      "outputs": [
        {
          "output_type": "stream",
          "name": "stdout",
          "text": [
            "<BatchDataset shapes: ((None, 784), (None,)), types: (tf.float32, tf.int32)>\n",
            "2115/2115 [==============================] - 2s 997us/step - loss: 0.0025 - binary_accuracy: 0.9995\n",
            "0.0025209744926542044 0.9995272159576416\n"
          ]
        }
      ]
    }
  ]
}