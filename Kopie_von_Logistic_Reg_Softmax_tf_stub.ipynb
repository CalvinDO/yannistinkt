{
  "nbformat": 4,
  "nbformat_minor": 0,
  "metadata": {
    "colab": {
      "name": "Kopie von Logistic_Reg_Softmax_tf_stub.ipynb",
      "provenance": [],
      "collapsed_sections": []
    },
    "kernelspec": {
      "name": "python3",
      "display_name": "Python 3"
    }
  },
  "cells": [
    {
      "cell_type": "markdown",
      "metadata": {
        "id": "7lL8UDAvPQaB"
      },
      "source": [
        "In this notebook you will implement the logistic regression by means of softmax."
      ]
    },
    {
      "cell_type": "code",
      "metadata": {
        "id": "xI0dT0-WEYuh"
      },
      "source": [
        "import tensorflow as tf\n",
        "import tensorflow_datasets as tfds"
      ],
      "execution_count": null,
      "outputs": []
    },
    {
      "cell_type": "code",
      "metadata": {
        "id": "Tqiqzu3dFXKj",
        "colab": {
          "base_uri": "https://localhost:8080/"
        },
        "outputId": "11d4c70d-50e1-44b8-e5c8-89039e95a3f4"
      },
      "source": [
        "print(tf.__version__)\n"
      ],
      "execution_count": null,
      "outputs": [
        {
          "output_type": "stream",
          "name": "stdout",
          "text": [
            "2.7.0\n"
          ]
        }
      ]
    },
    {
      "cell_type": "code",
      "metadata": {
        "id": "ZSjE8NINEvVO"
      },
      "source": [
        "import numpy as np "
      ],
      "execution_count": null,
      "outputs": []
    },
    {
      "cell_type": "code",
      "metadata": {
        "id": "UrkpG7BYI8MT",
        "colab": {
          "base_uri": "https://localhost:8080/"
        },
        "outputId": "d0872f69-440d-4dfa-daf4-a3b9b5116563"
      },
      "source": [
        "mnist = tf.keras.datasets.mnist\n",
        "\n",
        "(x_train, y_train), (x_test, y_test) = mnist.load_data()\n",
        "\n",
        "x_train, x_test = x_train / 255.0, x_test / 255.0\n"
      ],
      "execution_count": null,
      "outputs": [
        {
          "output_type": "stream",
          "name": "stdout",
          "text": [
            "Downloading data from https://storage.googleapis.com/tensorflow/tf-keras-datasets/mnist.npz\n",
            "11493376/11490434 [==============================] - 0s 0us/step\n",
            "11501568/11490434 [==============================] - 0s 0us/step\n"
          ]
        }
      ]
    },
    {
      "cell_type": "code",
      "metadata": {
        "id": "CHEiLlEnNhIm",
        "colab": {
          "base_uri": "https://localhost:8080/"
        },
        "outputId": "46c1994f-75eb-4998-9be5-cc353a116995"
      },
      "source": [
        "print (x_train.shape, x_train.dtype)"
      ],
      "execution_count": null,
      "outputs": [
        {
          "output_type": "stream",
          "name": "stdout",
          "text": [
            "(60000, 28, 28) float64\n"
          ]
        }
      ]
    },
    {
      "cell_type": "code",
      "metadata": {
        "id": "Cb5Hr9aENMTy",
        "colab": {
          "base_uri": "https://localhost:8080/"
        },
        "outputId": "0ba4575d-7a81-498d-9f28-aa95b0bda9fa"
      },
      "source": [
        "x_train = x_train.reshape([60000,784])\n",
        "x_test = x_test.reshape([10000,784])\n",
        "print(x_train.shape)\n"
      ],
      "execution_count": null,
      "outputs": [
        {
          "output_type": "stream",
          "name": "stdout",
          "text": [
            "(60000, 784)\n"
          ]
        }
      ]
    },
    {
      "cell_type": "code",
      "metadata": {
        "id": "VchHR4WRwYLT"
      },
      "source": [
        "logical_mask_0 = y_train == 0\n",
        "logical_mask_1 = y_train == 1"
      ],
      "execution_count": null,
      "outputs": []
    },
    {
      "cell_type": "code",
      "metadata": {
        "id": "9fcSdmzcxUKv"
      },
      "source": [
        "zeros = tf.boolean_mask(x_train, logical_mask_0)\n",
        "labels_0 = tf.boolean_mask(y_train, logical_mask_0)\n",
        "ones = tf.boolean_mask(x_train, logical_mask_1)\n",
        "labels_1 = tf.boolean_mask(y_train, logical_mask_1)\n",
        "all0_1 = tf.cast(tf.concat([zeros, ones], 0), tf.float32)\n",
        "all0_1_labels = tf.cast(tf.concat([labels_0, labels_1], 0), tf.int32)"
      ],
      "execution_count": null,
      "outputs": []
    },
    {
      "cell_type": "code",
      "metadata": {
        "id": "gzz7vocjXDRW"
      },
      "source": [
        "dataset = tf.data.Dataset.from_tensor_slices((all0_1,all0_1_labels))\n",
        "# Shuffle, repeat, and batch the examples.\n",
        "dataset = dataset.shuffle(12000).repeat(10).batch(10)\n"
      ],
      "execution_count": null,
      "outputs": []
    },
    {
      "cell_type": "markdown",
      "metadata": {
        "id": "pd6gwY7xydcm"
      },
      "source": [
        "Define the network model using tf.keras.models.Sequential\n",
        "\n",
        "Think how many output neurons you need (see also lecture slides)"
      ]
    },
    {
      "cell_type": "code",
      "metadata": {
        "id": "2FxhTxo3yhEH"
      },
      "source": [
        "model = tf.keras.Sequential()\n",
        "model.add(tf.keras.layers.Dense(2, activation = tf.nn.softmax))\n"
      ],
      "execution_count": null,
      "outputs": []
    },
    {
      "cell_type": "markdown",
      "metadata": {
        "id": "cpr8yZVO6xsB"
      },
      "source": [
        "Define your optimizer, loss, metrics. Your loss should match the softmax activation in the output. Remember the true values are not one-hot encoded but sparse. \n",
        "\n",
        "See model.compile"
      ]
    },
    {
      "cell_type": "code",
      "metadata": {
        "id": "CVJHVDzc62BE"
      },
      "source": [
        "model.compile(optimizer = tf.keras.optimizers.SGD(learning_rate= 0.001),\n",
        "              loss = 'sparse_categorical_crossentropy',\n",
        "              metrics =['accuracy'])"
      ],
      "execution_count": null,
      "outputs": []
    },
    {
      "cell_type": "markdown",
      "metadata": {
        "id": "W--SO4QKzpxJ"
      },
      "source": [
        "Fit your model"
      ]
    },
    {
      "cell_type": "code",
      "metadata": {
        "id": "1EM8qCqizwEe",
        "colab": {
          "base_uri": "https://localhost:8080/"
        },
        "outputId": "1d076bb6-f02f-4890-e771-2bb2e063359b"
      },
      "source": [
        "model.fit(dataset, epochs=5)"
      ],
      "execution_count": null,
      "outputs": [
        {
          "output_type": "stream",
          "name": "stdout",
          "text": [
            "Epoch 1/5\n",
            "12665/12665 [==============================] - 16s 1ms/step - loss: 0.0345 - accuracy: 0.9962\n",
            "Epoch 2/5\n",
            "12665/12665 [==============================] - 16s 1ms/step - loss: 0.0106 - accuracy: 0.9981\n",
            "Epoch 3/5\n",
            "12665/12665 [==============================] - 16s 1ms/step - loss: 0.0082 - accuracy: 0.9982\n",
            "Epoch 4/5\n",
            "12665/12665 [==============================] - 16s 1ms/step - loss: 0.0071 - accuracy: 0.9983\n",
            "Epoch 5/5\n",
            "12665/12665 [==============================] - 16s 1ms/step - loss: 0.0064 - accuracy: 0.9985\n"
          ]
        },
        {
          "output_type": "execute_result",
          "data": {
            "text/plain": [
              "<keras.callbacks.History at 0x7fda984f9910>"
            ]
          },
          "metadata": {},
          "execution_count": 32
        }
      ]
    },
    {
      "cell_type": "markdown",
      "metadata": {
        "id": "Lwy44sErwQPl"
      },
      "source": [
        "Apply your model to the test data.\n",
        "\n",
        "First extract the zeros and ones out of the whole test dataset"
      ]
    },
    {
      "cell_type": "code",
      "metadata": {
        "id": "-prp7AicwTWK",
        "colab": {
          "base_uri": "https://localhost:8080/"
        },
        "outputId": "184416c0-ee81-435e-a34c-b527c7bc3a31"
      },
      "source": [
        "logical_mask_0 = y_test == 0\n",
        "logical_mask_1 = y_test == 1\n",
        "zeros = tf.boolean_mask(x_test, logical_mask_0)\n",
        "labels_0 = tf.boolean_mask(y_test, logical_mask_0)\n",
        "ones = tf.boolean_mask(x_test, logical_mask_1)\n",
        "labels_1 = tf.boolean_mask(y_test, logical_mask_1)\n",
        "all0_1 = tf.cast(tf.concat([zeros, ones], 0), tf.float32)\n",
        "all0_1_labels = tf.cast(tf.concat([labels_0, labels_1], 0), tf.int32)\n",
        "\n",
        "dataset_test = tf.data.Dataset.from_tensor_slices((all0_1,all0_1_labels))\n",
        "# Shuffle, repeat, and batch the examples.\n",
        "dataset_test = dataset_test.batch(1)\n",
        "print(dataset_test)\n",
        "\n",
        "loss, acc = model.evaluate(dataset_test)\n",
        "print(loss, acc)"
      ],
      "execution_count": null,
      "outputs": [
        {
          "output_type": "stream",
          "name": "stdout",
          "text": [
            "<BatchDataset shapes: ((None, 784), (None,)), types: (tf.float32, tf.int32)>\n",
            "2115/2115 [==============================] - 2s 1ms/step - loss: 0.0034 - accuracy: 0.9995\n",
            "0.003419412998482585 0.9995272159576416\n"
          ]
        }
      ]
    }
  ]
}