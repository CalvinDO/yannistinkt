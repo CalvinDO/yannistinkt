{
 "cells": [
  {
   "cell_type": "markdown",
   "metadata": {},
   "source": [
    "a) Implement a function for the forward propagation on a hidden layer l and a function for evaluating the ouput layer with the softmax function"
   ]
  },
  {
   "cell_type": "code",
   "execution_count": 2,
   "metadata": {},
   "outputs": [],
   "source": [
    "import numpy as np "
   ]
  },
  {
   "cell_type": "code",
   "execution_count": null,
   "metadata": {},
   "outputs": [],
   "source": [
    "x = np.array((0.1, 0.8))\n",
    "w1 = ((0.2, 0.5),(0.3,0.4))\n",
    "w2 = ((0.1, 0.3),(0.7,0.4),(0.01, 0.02))\n",
    "w = np.array((w1, w2), dtype=object)\n",
    "\n",
    "b1 = ((0.1, 0.6))\n",
    "b2 = ((0.2, 0.1, 0.4))\n",
    "b = np.array((b1, b2), dtype=object)"
   ]
  },
  {
   "cell_type": "code",
   "execution_count": null,
   "metadata": {},
   "outputs": [],
   "source": [
    "def z(l):\n",
    "  return w[l-1] @ a(l -1) + b(l -1)\n",
    "\n",
    "def a(l):\n",
    "    return g(z(l))\n",
    "\n",
    "def g(t):\n",
    "    return 1 / (1 + np.exp(-t))\n"
   ]
  }
 ],
 "metadata": {
  "interpreter": {
   "hash": "bfa69aadc8bd388467703aaf44151a9211fe6f35a2058613865535f18fdcd8b1"
  },
  "kernelspec": {
   "display_name": "Python 3.7.9 64-bit",
   "language": "python",
   "name": "python3"
  },
  "language_info": {
   "codemirror_mode": {
    "name": "ipython",
    "version": 3
   },
   "file_extension": ".py",
   "mimetype": "text/x-python",
   "name": "python",
   "nbconvert_exporter": "python",
   "pygments_lexer": "ipython3",
   "version": "3.7.9"
  },
  "orig_nbformat": 4
 },
 "nbformat": 4,
 "nbformat_minor": 2
}
